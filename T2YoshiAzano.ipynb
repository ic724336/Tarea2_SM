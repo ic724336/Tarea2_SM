{
 "cells": [
  {
   "cell_type": "markdown",
   "metadata": {},
   "source": [
    "# Resumen de [Python is becoming the world’s most popular coding language](https://www.economist.com/graphic-detail/2018/07/26/python-is-becoming-the-worlds-most-popular-coding-language)"
   ]
  },
  {
   "cell_type": "markdown",
   "metadata": {},
   "source": [
    "Guido Van Rossum cientifico de computadoras de los Paises Bajos y creador de Python en 1989, dice \n",
    ">I CERTAINLY didn’t set out to create a language that was intended for mass consumption.\n",
    "\n",
    "despues de tres decadas _Python_ a superado a la mayoria de sus rivales y le ha brindado el serivico a muchas personas que preferian no programar por lo dificil que era. La mayoria de los programas de programación han ido en decayencia. "
   ]
  },
  {
   "cell_type": "markdown",
   "metadata": {},
   "source": [
    "Las **2** ventajas de Python son su simplicidad y la flexibilidad que tiene el programa. Ya que su sintaxis para programar es muy sencilla, facil de leer y compartir."
   ]
  },
  {
   "cell_type": "markdown",
   "metadata": {},
   "source": [
    "Hay más de 145,000 librerias de Python disponibles lo cual lo hacen tremendamente sencillo para programar sobre temas más especificos al ser facil de descargar estas librerias y trabajar con ellas. La _CIA_ ha usado Python para hackear, _Google_ para hacer paginas web y _Spotify_ para recomendar canciones. "
   ]
  },
  {
   "cell_type": "markdown",
   "metadata": {},
   "source": [
    "# Resumen de [Python has brought computer programming to a vast new audience](https://www.economist.com/science-and-technology/2018/07/19/python-has-brought-computer-programming-to-a-vast-new-audience)"
   ]
  },
  {
   "cell_type": "markdown",
   "metadata": {},
   "source": [
    "En el año 1989  **Guido van Rossum** se puso una meta de crear un programa de programacion que fuera facil de usar, que los usuarios pudieran hacer sus librerias de codificacion para nuevos programas y queria que tuviera un nombre misterioso asi que lo nombro _Monty Python_.\n"
   ]
  },
  {
   "cell_type": "markdown",
   "metadata": {},
   "source": [
    "Despues de 30 años de ser creado, _Python_ es más buscado que Kim Kardashian en internet. De hecho el programa ha estado creciendo su numero de usuarios y otros programas de programación han estado en la declina. Las busquedas de Python en internet se han más que triplicado desde el 2010. "
   ]
  },
  {
   "cell_type": "markdown",
   "metadata": {},
   "source": []
  }
 ],
 "metadata": {
  "kernelspec": {
   "display_name": "Python 3",
   "language": "python",
   "name": "python3"
  },
  "language_info": {
   "codemirror_mode": {
    "name": "ipython",
    "version": 3
   },
   "file_extension": ".py",
   "mimetype": "text/x-python",
   "name": "python",
   "nbconvert_exporter": "python",
   "pygments_lexer": "ipython3",
   "version": "3.7.3"
  }
 },
 "nbformat": 4,
 "nbformat_minor": 2
}
